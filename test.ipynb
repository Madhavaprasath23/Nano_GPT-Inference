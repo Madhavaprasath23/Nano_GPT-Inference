{
 "cells": [
  {
   "cell_type": "code",
   "execution_count": 1,
   "metadata": {},
   "outputs": [],
   "source": [
    "from inference import GPT,GPTConfig,CausalSelfAttention,MLP,Block\n",
    "import torch"
   ]
  },
  {
   "cell_type": "code",
   "execution_count": 2,
   "metadata": {},
   "outputs": [],
   "source": [
    "t=torch.randn(1,3,768)\n",
    "m=CausalSelfAttention(GPTConfig)\n",
    "m1=MLP(GPTConfig)"
   ]
  },
  {
   "cell_type": "code",
   "execution_count": 3,
   "metadata": {},
   "outputs": [
    {
     "name": "stdout",
     "output_type": "stream",
     "text": [
      "tensor([[[ 0.0571, -0.0147,  0.2563,  ...,  0.1437,  0.2194,  0.0089],\n",
      "         [ 0.1043,  0.0443,  0.0722,  ...,  0.1402,  0.1269, -0.0184],\n",
      "         [ 0.2369, -0.1305,  0.0259,  ...,  0.2407,  0.1699,  0.1115]]],\n",
      "       grad_fn=<ViewBackward0>)\n"
     ]
    }
   ],
   "source": [
    "x,a1,a=m(\n",
    "    t\n",
    ")\n",
    "print(x)"
   ]
  },
  {
   "cell_type": "code",
   "execution_count": 4,
   "metadata": {},
   "outputs": [
    {
     "name": "stdout",
     "output_type": "stream",
     "text": [
      "tensor([[[-0.5529,    -inf,    -inf],\n",
      "         [ 0.3830, -0.0220,    -inf],\n",
      "         [ 0.1039,  0.2525,  0.2083]]], grad_fn=<SliceBackward0>)\n",
      "tensor([[[0.6674]]], grad_fn=<SliceBackward0>)\n",
      "tensor([[[-0.5529,    -inf,    -inf],\n",
      "         [ 0.3830, -0.0220,    -inf],\n",
      "         [ 0.1039,  0.2525,  0.2083]]], grad_fn=<SliceBackward0>)\n",
      "tensor([[[0.0128, 0.2662]]], grad_fn=<SliceBackward0>)\n",
      "tensor([[[-0.5529,    -inf,    -inf],\n",
      "         [ 0.3830, -0.0220,    -inf],\n",
      "         [ 0.1039,  0.2525,  0.2083]]], grad_fn=<SliceBackward0>)\n",
      "tensor([[[-0.6409, -0.1511,  0.1725]]], grad_fn=<SliceBackward0>)\n"
     ]
    }
   ],
   "source": [
    "for i in range(1,3+1):\n",
    "    x1,a2,a21=m(\n",
    "        t[:,i-1:i],kv_cache=True,steps=i-1\n",
    "    )\n",
    "\n",
    "    print(a1[:,0,:],a2[:,1,:],sep='\\n')"
   ]
  },
  {
   "cell_type": "code",
   "execution_count": null,
   "metadata": {},
   "outputs": [],
   "source": [
    "a"
   ]
  }
 ],
 "metadata": {
  "kernelspec": {
   "display_name": "Python 3",
   "language": "python",
   "name": "python3"
  },
  "language_info": {
   "codemirror_mode": {
    "name": "ipython",
    "version": 3
   },
   "file_extension": ".py",
   "mimetype": "text/x-python",
   "name": "python",
   "nbconvert_exporter": "python",
   "pygments_lexer": "ipython3",
   "version": "3.10.12"
  }
 },
 "nbformat": 4,
 "nbformat_minor": 2
}
